{
 "cells": [
  {
   "cell_type": "code",
   "execution_count": 1,
   "id": "38526c7e",
   "metadata": {},
   "outputs": [],
   "source": [
    "from algotrading import AlgoTrading"
   ]
  },
  {
   "cell_type": "code",
   "execution_count": 2,
   "id": "1cece1ca",
   "metadata": {},
   "outputs": [],
   "source": [
    "api_key = \"your api key\"\n",
    "api_secret = \"your api secret\"\n",
    "algo = AlgoTrading(api_key,api_secret)"
   ]
  },
  {
   "cell_type": "code",
   "execution_count": 10,
   "id": "05b18bef",
   "metadata": {
    "tags": []
   },
   "outputs": [
    {
     "data": {
      "text/plain": [
       "['1INCHUSD',\n",
       " 'AAPLUSD',\n",
       " 'AAVEUSD',\n",
       " 'AAVEUSDT',\n",
       " 'ABNBUSD',\n",
       " 'ACBUSD',\n",
       " 'AGLDUSD',\n",
       " 'AKROUSD',\n",
       " 'AKROUSDT',\n",
       " 'ALCXUSD']"
      ]
     },
     "execution_count": 10,
     "metadata": {},
     "output_type": "execute_result"
    }
   ],
   "source": [
    "algo.get_available_currencies()[:10]"
   ]
  },
  {
   "cell_type": "code",
   "execution_count": 5,
   "id": "6240e97e",
   "metadata": {},
   "outputs": [
    {
     "data": {
      "text/plain": [
       "{'total': 7.034645799915575,\n",
       " 'price': 2.3448819333051915e-05,\n",
       " 'currency': 'BTC'}"
      ]
     },
     "execution_count": 5,
     "metadata": {},
     "output_type": "execute_result"
    }
   ],
   "source": [
    "algo.simulate_market_price('buy', 'USDT', 'BTC', 300000)"
   ]
  },
  {
   "cell_type": "code",
   "execution_count": 6,
   "id": "39dee821",
   "metadata": {},
   "outputs": [
    {
     "data": {
      "text/plain": [
       "({'Order_size': 426700.5996000001,\n",
       "  'Price': 42670.059960000006,\n",
       "  'Currency': 'USDT'},\n",
       " {'Action': 'buy',\n",
       "  'Base_currency': 'BTC',\n",
       "  'Quote_currency': 'USDT',\n",
       "  'Amount': 10,\n",
       "  'Price': 42679.0,\n",
       "  'Number_of_iceberg_order': 5})"
      ]
     },
     "execution_count": 6,
     "metadata": {},
     "output_type": "execute_result"
    }
   ],
   "source": [
    "algo.simulate_market_price('buy', 'BTC', 'USDT', 10,True,5)"
   ]
  },
  {
   "cell_type": "code",
   "execution_count": 7,
   "id": "e1637250",
   "metadata": {},
   "outputs": [
    {
     "data": {
      "text/plain": [
       "{'total': 91363.82775000001, 'price': 91.36382775000001, 'currency': 'USDT'}"
      ]
     },
     "execution_count": 7,
     "metadata": {},
     "output_type": "execute_result"
    }
   ],
   "source": [
    "algo.create_market_order('sell', 'AVAX', 'USDT', 1000)"
   ]
  },
  {
   "cell_type": "code",
   "execution_count": 8,
   "id": "87ed660f",
   "metadata": {},
   "outputs": [
    {
     "data": {
      "text/plain": [
       "[{'Order_size': 4.0, 'Price': 0.2, 'Currency': 'USDT'},\n",
       " {'Order_size': 4.0, 'Price': 0.2, 'Currency': 'USDT'},\n",
       " {'Order_size': 4.0, 'Price': 0.2, 'Currency': 'USDT'},\n",
       " {'Order_size': 4.0, 'Price': 0.2, 'Currency': 'USDT'},\n",
       " {'Order_size': 4.0, 'Price': 0.2, 'Currency': 'USDT'}]"
      ]
     },
     "execution_count": 8,
     "metadata": {},
     "output_type": "execute_result"
    }
   ],
   "source": [
    "algo.create_limit_order('sell', 'AVAX', 'USDT', 100, 0.2, 5)"
   ]
  },
  {
   "cell_type": "code",
   "execution_count": 9,
   "id": "e8d6060c",
   "metadata": {},
   "outputs": [
    {
     "ename": "Exception",
     "evalue": "Your sell amount is not offset by order book in 100 depths",
     "output_type": "error",
     "traceback": [
      "\u001b[1;31m---------------------------------------------------------------------------\u001b[0m",
      "\u001b[1;31mIndexError\u001b[0m                                Traceback (most recent call last)",
      "\u001b[1;32m~\\Masaüstü\\Crypto_Repositorty\\algotrading\\_algotrading.py\u001b[0m in \u001b[0;36msimulate_market_price\u001b[1;34m(self, action, base_currency, quote_currency, amount, return_limit_order_info, iceberg_order)\u001b[0m\n\u001b[0;32m    370\u001b[0m             \u001b[1;32mtry\u001b[0m\u001b[1;33m:\u001b[0m\u001b[1;33m\u001b[0m\u001b[1;33m\u001b[0m\u001b[0m\n\u001b[1;32m--> 371\u001b[1;33m                 \u001b[0mindex_sell\u001b[0m \u001b[1;33m=\u001b[0m \u001b[0mdf_orderbook\u001b[0m\u001b[1;33m.\u001b[0m\u001b[0mloc\u001b[0m\u001b[1;33m[\u001b[0m\u001b[0mdf_orderbook\u001b[0m\u001b[1;33m[\u001b[0m\u001b[1;34m'Bid_Quant_Cumsum'\u001b[0m\u001b[1;33m]\u001b[0m\u001b[1;33m>=\u001b[0m\u001b[0mamount\u001b[0m\u001b[1;33m,\u001b[0m\u001b[1;34m'Bid_Quant_Cumsum'\u001b[0m\u001b[1;33m]\u001b[0m\u001b[1;33m.\u001b[0m\u001b[0mindex\u001b[0m\u001b[1;33m.\u001b[0m\u001b[0mtolist\u001b[0m\u001b[1;33m(\u001b[0m\u001b[1;33m)\u001b[0m\u001b[1;33m[\u001b[0m\u001b[1;36m0\u001b[0m\u001b[1;33m]\u001b[0m\u001b[1;33m\u001b[0m\u001b[1;33m\u001b[0m\u001b[0m\n\u001b[0m\u001b[0;32m    372\u001b[0m             \u001b[1;32mexcept\u001b[0m\u001b[1;33m:\u001b[0m\u001b[1;33m\u001b[0m\u001b[1;33m\u001b[0m\u001b[0m\n",
      "\u001b[1;31mIndexError\u001b[0m: list index out of range",
      "\nDuring handling of the above exception, another exception occurred:\n",
      "\u001b[1;31mException\u001b[0m                                 Traceback (most recent call last)",
      "\u001b[1;32m<ipython-input-9-c41929881b83>\u001b[0m in \u001b[0;36m<module>\u001b[1;34m\u001b[0m\n\u001b[1;32m----> 1\u001b[1;33m \u001b[0malgo\u001b[0m\u001b[1;33m.\u001b[0m\u001b[0mcreate_market_order\u001b[0m\u001b[1;33m(\u001b[0m\u001b[1;34m'sell'\u001b[0m\u001b[1;33m,\u001b[0m \u001b[1;34m'AVAX'\u001b[0m\u001b[1;33m,\u001b[0m \u001b[1;34m'USDT'\u001b[0m\u001b[1;33m,\u001b[0m \u001b[1;36m1000000000\u001b[0m\u001b[1;33m)\u001b[0m\u001b[1;33m\u001b[0m\u001b[1;33m\u001b[0m\u001b[0m\n\u001b[0m",
      "\u001b[1;32m~\\Masaüstü\\Crypto_Repositorty\\algotrading\\_algotrading.py\u001b[0m in \u001b[0;36mcreate_market_order\u001b[1;34m(self, action, base_currency, quote_currency, amount)\u001b[0m\n\u001b[0;32m    183\u001b[0m         \u001b[0mspot_currency_list\u001b[0m \u001b[1;33m=\u001b[0m \u001b[0mself\u001b[0m\u001b[1;33m.\u001b[0m\u001b[0mget_available_currencies\u001b[0m\u001b[1;33m(\u001b[0m\u001b[0mmarket_type\u001b[0m \u001b[1;33m=\u001b[0m \u001b[1;34m'spot'\u001b[0m\u001b[1;33m)\u001b[0m\u001b[1;33m\u001b[0m\u001b[1;33m\u001b[0m\u001b[0m\n\u001b[0;32m    184\u001b[0m \u001b[1;33m\u001b[0m\u001b[0m\n\u001b[1;32m--> 185\u001b[1;33m         \u001b[0mresponse\u001b[0m \u001b[1;33m=\u001b[0m \u001b[0mself\u001b[0m\u001b[1;33m.\u001b[0m\u001b[0msimulate_market_price\u001b[0m\u001b[1;33m(\u001b[0m\u001b[0maction\u001b[0m\u001b[1;33m,\u001b[0m\u001b[0mbase_currency\u001b[0m\u001b[1;33m,\u001b[0m\u001b[0mquote_currency\u001b[0m\u001b[1;33m,\u001b[0m\u001b[0mamount\u001b[0m\u001b[1;33m)\u001b[0m\u001b[1;33m\u001b[0m\u001b[1;33m\u001b[0m\u001b[0m\n\u001b[0m\u001b[0;32m    186\u001b[0m \u001b[1;33m\u001b[0m\u001b[0m\n\u001b[0;32m    187\u001b[0m         \u001b[0mmarket\u001b[0m \u001b[1;33m=\u001b[0m \u001b[0msymbol\u001b[0m \u001b[1;32mif\u001b[0m \u001b[0mpair\u001b[0m \u001b[1;32min\u001b[0m \u001b[0mspot_currency_list\u001b[0m \u001b[1;32melse\u001b[0m \u001b[0mreverse_symbol\u001b[0m\u001b[1;33m\u001b[0m\u001b[1;33m\u001b[0m\u001b[0m\n",
      "\u001b[1;32m~\\Masaüstü\\Crypto_Repositorty\\algotrading\\_algotrading.py\u001b[0m in \u001b[0;36msimulate_market_price\u001b[1;34m(self, action, base_currency, quote_currency, amount, return_limit_order_info, iceberg_order)\u001b[0m\n\u001b[0;32m    371\u001b[0m                 \u001b[0mindex_sell\u001b[0m \u001b[1;33m=\u001b[0m \u001b[0mdf_orderbook\u001b[0m\u001b[1;33m.\u001b[0m\u001b[0mloc\u001b[0m\u001b[1;33m[\u001b[0m\u001b[0mdf_orderbook\u001b[0m\u001b[1;33m[\u001b[0m\u001b[1;34m'Bid_Quant_Cumsum'\u001b[0m\u001b[1;33m]\u001b[0m\u001b[1;33m>=\u001b[0m\u001b[0mamount\u001b[0m\u001b[1;33m,\u001b[0m\u001b[1;34m'Bid_Quant_Cumsum'\u001b[0m\u001b[1;33m]\u001b[0m\u001b[1;33m.\u001b[0m\u001b[0mindex\u001b[0m\u001b[1;33m.\u001b[0m\u001b[0mtolist\u001b[0m\u001b[1;33m(\u001b[0m\u001b[1;33m)\u001b[0m\u001b[1;33m[\u001b[0m\u001b[1;36m0\u001b[0m\u001b[1;33m]\u001b[0m\u001b[1;33m\u001b[0m\u001b[1;33m\u001b[0m\u001b[0m\n\u001b[0;32m    372\u001b[0m             \u001b[1;32mexcept\u001b[0m\u001b[1;33m:\u001b[0m\u001b[1;33m\u001b[0m\u001b[1;33m\u001b[0m\u001b[0m\n\u001b[1;32m--> 373\u001b[1;33m                 \u001b[1;32mraise\u001b[0m \u001b[0mException\u001b[0m\u001b[1;33m(\u001b[0m\u001b[1;34mf'Your sell amount is not offset by order book in {depth} depths'\u001b[0m\u001b[1;33m)\u001b[0m\u001b[1;33m\u001b[0m\u001b[1;33m\u001b[0m\u001b[0m\n\u001b[0m\u001b[0;32m    374\u001b[0m \u001b[1;33m\u001b[0m\u001b[0m\n\u001b[0;32m    375\u001b[0m             \u001b[0mdf_orderbook\u001b[0m\u001b[1;33m.\u001b[0m\u001b[0mloc\u001b[0m\u001b[1;33m[\u001b[0m\u001b[0mindex_sell\u001b[0m\u001b[1;33m,\u001b[0m\u001b[1;34m'Bid_Quant'\u001b[0m\u001b[1;33m]\u001b[0m \u001b[1;33m=\u001b[0m \u001b[0mdf_orderbook\u001b[0m\u001b[1;33m.\u001b[0m\u001b[0mloc\u001b[0m\u001b[1;33m[\u001b[0m\u001b[0mindex_sell\u001b[0m\u001b[1;33m,\u001b[0m\u001b[1;34m'Bid_Quant'\u001b[0m\u001b[1;33m]\u001b[0m\u001b[1;33m-\u001b[0m\u001b[1;33m(\u001b[0m\u001b[0mdf_orderbook\u001b[0m\u001b[1;33m.\u001b[0m\u001b[0mloc\u001b[0m\u001b[1;33m[\u001b[0m\u001b[0mindex_sell\u001b[0m\u001b[1;33m,\u001b[0m\u001b[1;34m'Bid_Quant_Cumsum'\u001b[0m\u001b[1;33m]\u001b[0m\u001b[1;33m-\u001b[0m\u001b[0mamount\u001b[0m\u001b[1;33m)\u001b[0m\u001b[1;33m\u001b[0m\u001b[1;33m\u001b[0m\u001b[0m\n",
      "\u001b[1;31mException\u001b[0m: Your sell amount is not offset by order book in 100 depths"
     ]
    }
   ],
   "source": [
    "# if your amount is bigger than orderbook total quantity\n",
    "algo.create_market_order('sell', 'AVAX', 'USDT', 1000000000)"
   ]
  },
  {
   "cell_type": "code",
   "execution_count": null,
   "id": "3c817cba",
   "metadata": {},
   "outputs": [],
   "source": []
  }
 ],
 "metadata": {
  "kernelspec": {
   "display_name": "Python 3",
   "language": "python",
   "name": "python3"
  },
  "language_info": {
   "codemirror_mode": {
    "name": "ipython",
    "version": 3
   },
   "file_extension": ".py",
   "mimetype": "text/x-python",
   "name": "python",
   "nbconvert_exporter": "python",
   "pygments_lexer": "ipython3",
   "version": "3.8.5"
  }
 },
 "nbformat": 4,
 "nbformat_minor": 5
}
